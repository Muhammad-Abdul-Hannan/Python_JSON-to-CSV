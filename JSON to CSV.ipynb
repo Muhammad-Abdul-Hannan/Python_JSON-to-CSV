{
 "cells": [
  {
   "cell_type": "code",
   "execution_count": 1,
   "id": "80aafc7d",
   "metadata": {},
   "outputs": [],
   "source": [
    "# Import libraries\n",
    "from selenium import webdriver\n",
    "from selenium.webdriver.chrome.service import Service\n",
    "from selenium.webdriver.common.keys import Keys\n",
    "import time\n",
    "from datetime import datetime\n",
    "from bs4 import BeautifulSoup\n",
    "import pandas as pd\n",
    "import re\n",
    "from random import randint\n",
    "from selenium.webdriver.common.by import By\n",
    "from selenium.webdriver.support import expected_conditions as EC\n",
    "from selenium.webdriver.support.wait import WebDriverWait\n",
    "from selenium.webdriver.chrome.options import Options as ChromeOptions\n",
    "from datetime import datetime\n",
    "import requests\n",
    "from selenium.webdriver.common.action_chains import ActionChains"
   ]
  },
  {
   "cell_type": "code",
   "execution_count": 2,
   "id": "62a18c1b",
   "metadata": {},
   "outputs": [],
   "source": [
    "import json\n",
    "import csv"
   ]
  },
  {
   "cell_type": "code",
   "execution_count": null,
   "id": "d8d3603b",
   "metadata": {},
   "outputs": [],
   "source": []
  },
  {
   "cell_type": "code",
   "execution_count": 16,
   "id": "2bed5638",
   "metadata": {},
   "outputs": [],
   "source": [
    "dict1 = {\n",
    "    \"seller_id\":[],\n",
    "    \"name\":[],\n",
    "    \"domain\":[],\n",
    "    \"seller_type\":[]\n",
    "}"
   ]
  },
  {
   "cell_type": "code",
   "execution_count": 25,
   "id": "51e20a59",
   "metadata": {},
   "outputs": [],
   "source": [
    "# Opening JSON file and loading the data\n",
    "# into the variable data\n",
    "with open('C:\\\\Users\\\\Kashif\\\\Documents\\\\Python Scripts\\\\Python lect\\\\sellers (2).json', encoding=\"utf8\") as json_file:\n",
    "    data = json.load(json_file)"
   ]
  },
  {
   "cell_type": "code",
   "execution_count": 26,
   "id": "32ae6c32",
   "metadata": {},
   "outputs": [
    {
     "data": {
      "text/plain": [
       "47652"
      ]
     },
     "execution_count": 26,
     "metadata": {},
     "output_type": "execute_result"
    }
   ],
   "source": [
    "len(data['sellers'])\n",
    "# data['sellers'][9539]"
   ]
  },
  {
   "cell_type": "code",
   "execution_count": 27,
   "id": "8247a747",
   "metadata": {},
   "outputs": [],
   "source": [
    "len(data['sellers'])\n",
    "for i in range(0, 47652):\n",
    "    dict1['seller_id'].append(data['sellers'][i]['seller_id'])\n",
    "    dict1['name'].append(data['sellers'][i]['name'])\n",
    "    dict1['domain'].append(data['sellers'][i]['domain'])\n",
    "    dict1['seller_type'].append(data['sellers'][i]['seller_type'])"
   ]
  },
  {
   "cell_type": "code",
   "execution_count": 28,
   "id": "44706496",
   "metadata": {},
   "outputs": [],
   "source": [
    "df2 = pd.DataFrame(dict1)\n",
    "df2.to_excel('SellersF2.xlsx')"
   ]
  },
  {
   "cell_type": "code",
   "execution_count": null,
   "id": "72650fbb",
   "metadata": {},
   "outputs": [],
   "source": []
  },
  {
   "cell_type": "code",
   "execution_count": null,
   "id": "ac9fdb85",
   "metadata": {},
   "outputs": [],
   "source": []
  },
  {
   "cell_type": "code",
   "execution_count": null,
   "id": "61a0d90b",
   "metadata": {},
   "outputs": [],
   "source": [
    "# Opening JSON file and loading the data\n",
    "# into the variable data\n",
    "with open('data.json') as json_file:\n",
    "    data = json.load(json_file)\n",
    " \n",
    "employee_data = data['emp_details']\n",
    " \n",
    "# now we will open a file for writing\n",
    "data_file = open('data_file.csv', 'w')\n",
    " \n",
    "# create the csv writer object\n",
    "csv_writer = csv.writer(data_file)\n",
    " \n",
    "# Counter variable used for writing\n",
    "# headers to the CSV file\n",
    "count = 0\n",
    " \n",
    "for emp in employee_data:\n",
    "    if count == 0:\n",
    " \n",
    "        # Writing headers of CSV file\n",
    "        header = emp.keys()\n",
    "        csv_writer.writerow(header)\n",
    "        count += 1\n",
    " \n",
    "    # Writing data of CSV file\n",
    "    csv_writer.writerow(emp.values())\n",
    " \n",
    "data_file.close()"
   ]
  },
  {
   "cell_type": "code",
   "execution_count": null,
   "id": "2cda4f1b",
   "metadata": {},
   "outputs": [],
   "source": []
  },
  {
   "cell_type": "code",
   "execution_count": null,
   "id": "5ff38cff",
   "metadata": {},
   "outputs": [],
   "source": []
  },
  {
   "cell_type": "code",
   "execution_count": null,
   "id": "a5325fd7",
   "metadata": {},
   "outputs": [],
   "source": []
  },
  {
   "cell_type": "code",
   "execution_count": null,
   "id": "2d2b3eaf",
   "metadata": {},
   "outputs": [],
   "source": []
  }
 ],
 "metadata": {
  "kernelspec": {
   "display_name": "Python 3",
   "language": "python",
   "name": "python3"
  },
  "language_info": {
   "codemirror_mode": {
    "name": "ipython",
    "version": 3
   },
   "file_extension": ".py",
   "mimetype": "text/x-python",
   "name": "python",
   "nbconvert_exporter": "python",
   "pygments_lexer": "ipython3",
   "version": "3.8.8"
  }
 },
 "nbformat": 4,
 "nbformat_minor": 5
}
